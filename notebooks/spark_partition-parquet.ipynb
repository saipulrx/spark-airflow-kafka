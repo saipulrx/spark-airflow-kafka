{
 "cells": [
  {
   "cell_type": "code",
   "execution_count": 1,
   "id": "e9d96874-4d19-423b-a37e-d5dd9368cae7",
   "metadata": {
    "tags": []
   },
   "outputs": [],
   "source": [
    "import pyspark\n",
    "sparkcontext = pyspark.SparkContext.getOrCreate(conf=(\n",
    "        pyspark\n",
    "        .SparkConf()\n",
    "        .setAppName('RuangData')\n",
    "        .setMaster('local')\n",
    "    ))\n",
    "sparkcontext.setLogLevel(\"WARN\")\n",
    "\n",
    "spark = pyspark.sql.SparkSession(sparkcontext.getOrCreate())"
   ]
  },
  {
   "cell_type": "markdown",
   "id": "6fa9a29a-ac42-4632-ad40-c4c2bab3e33b",
   "metadata": {},
   "source": [
    "## read parquet data"
   ]
  },
  {
   "cell_type": "code",
   "execution_count": 9,
   "id": "c9e9c175-f43d-4160-a82c-7ea09cdbee49",
   "metadata": {
    "tags": []
   },
   "outputs": [
    {
     "name": "stdout",
     "output_type": "stream",
     "text": [
      "bin   dev  home  media\topt   resources  run   srv  tmp  var\n",
      "boot  etc  lib\t mnt\tproc  root\t sbin  sys  usr\n"
     ]
    }
   ],
   "source": [
    "!ls /"
   ]
  },
  {
   "cell_type": "code",
   "execution_count": 10,
   "id": "c877a79c-0708-46e0-b4f1-8a5c4b4b44ad",
   "metadata": {
    "tags": []
   },
   "outputs": [
    {
     "name": "stdout",
     "output_type": "stream",
     "text": [
      "+--------+---------+-----------+----------+-----------+---------+------------------+------------+----------+-------------------+-----------------------+---------------------+------------------------------+------------------------+----------------------+-------------------------------+-----------------+------------+------------------------+-------------+-------------------------+---------------------+---------------------------------+----------------------+----------------------------------+-----------+---------+------------------------+----------------------+------------------+-------------------------------+-------------+--------------+-----------+------------------+-----------------+-----------------------+--------------+----------------+-------------------------+------------------------------+-----------------------------+-----------------------------------+--------------------------+-------------------------------------+------------------------------+------------------------------------------+----------------+------------------+----------+-------------+-------------+--------------+---------------+---------------------+-------------------+--------------+------------+----------------------+--------------------------+---------------+-----------------------+----------+------------------------------------+---------------------------+----------------+---------------------------------------+\n",
      "|iso_code|continent|   location|      date|total_cases|new_cases|new_cases_smoothed|total_deaths|new_deaths|new_deaths_smoothed|total_cases_per_million|new_cases_per_million|new_cases_smoothed_per_million|total_deaths_per_million|new_deaths_per_million|new_deaths_smoothed_per_million|reproduction_rate|icu_patients|icu_patients_per_million|hosp_patients|hosp_patients_per_million|weekly_icu_admissions|weekly_icu_admissions_per_million|weekly_hosp_admissions|weekly_hosp_admissions_per_million|total_tests|new_tests|total_tests_per_thousand|new_tests_per_thousand|new_tests_smoothed|new_tests_smoothed_per_thousand|positive_rate|tests_per_case|tests_units|total_vaccinations|people_vaccinated|people_fully_vaccinated|total_boosters|new_vaccinations|new_vaccinations_smoothed|total_vaccinations_per_hundred|people_vaccinated_per_hundred|people_fully_vaccinated_per_hundred|total_boosters_per_hundred|new_vaccinations_smoothed_per_million|new_people_vaccinated_smoothed|new_people_vaccinated_smoothed_per_hundred|stringency_index|population_density|median_age|aged_65_older|aged_70_older|gdp_per_capita|extreme_poverty|cardiovasc_death_rate|diabetes_prevalence|female_smokers|male_smokers|handwashing_facilities|hospital_beds_per_thousand|life_expectancy|human_development_index|population|excess_mortality_cumulative_absolute|excess_mortality_cumulative|excess_mortality|excess_mortality_cumulative_per_million|\n",
      "+--------+---------+-----------+----------+-----------+---------+------------------+------------+----------+-------------------+-----------------------+---------------------+------------------------------+------------------------+----------------------+-------------------------------+-----------------+------------+------------------------+-------------+-------------------------+---------------------+---------------------------------+----------------------+----------------------------------+-----------+---------+------------------------+----------------------+------------------+-------------------------------+-------------+--------------+-----------+------------------+-----------------+-----------------------+--------------+----------------+-------------------------+------------------------------+-----------------------------+-----------------------------------+--------------------------+-------------------------------------+------------------------------+------------------------------------------+----------------+------------------+----------+-------------+-------------+--------------+---------------+---------------------+-------------------+--------------+------------+----------------------+--------------------------+---------------+-----------------------+----------+------------------------------------+---------------------------+----------------+---------------------------------------+\n",
      "|     AFG|     Asia|Afghanistan|2020-01-05|       null|      0.0|              null|        null|       0.0|               null|                   null|                  0.0|                          null|                    null|                   0.0|                           null|             null|        null|                    null|         null|                     null|                 null|                             null|                  null|                              null|       null|     null|                    null|                  null|              null|                           null|         null|          null|       null|              null|             null|                   null|          null|            null|                     null|                          null|                         null|                               null|                      null|                                 null|                          null|                                      null|             0.0|            54.422|      18.6|        2.581|        1.337|      1803.987|           null|              597.029|               9.59|          null|        null|                37.746|                       0.5|          64.83|                  0.511|41128772.0|                                null|                       null|            null|                                   null|\n",
      "|     AFG|     Asia|Afghanistan|2020-01-12|       null|      0.0|              null|        null|       0.0|               null|                   null|                  0.0|                          null|                    null|                   0.0|                           null|             null|        null|                    null|         null|                     null|                 null|                             null|                  null|                              null|       null|     null|                    null|                  null|              null|                           null|         null|          null|       null|              null|             null|                   null|          null|            null|                     null|                          null|                         null|                               null|                      null|                                 null|                          null|                                      null|             0.0|            54.422|      18.6|        2.581|        1.337|      1803.987|           null|              597.029|               9.59|          null|        null|                37.746|                       0.5|          64.83|                  0.511|41128772.0|                                null|                       null|            null|                                   null|\n",
      "|     AFG|     Asia|Afghanistan|2020-01-19|       null|      0.0|              null|        null|       0.0|               null|                   null|                  0.0|                          null|                    null|                   0.0|                           null|             null|        null|                    null|         null|                     null|                 null|                             null|                  null|                              null|       null|     null|                    null|                  null|              null|                           null|         null|          null|       null|              null|             null|                   null|          null|            null|                     null|                          null|                         null|                               null|                      null|                                 null|                          null|                                      null|             0.0|            54.422|      18.6|        2.581|        1.337|      1803.987|           null|              597.029|               9.59|          null|        null|                37.746|                       0.5|          64.83|                  0.511|41128772.0|                                null|                       null|            null|                                   null|\n",
      "|     AFG|     Asia|Afghanistan|2020-01-26|       null|      0.0|              null|        null|       0.0|               null|                   null|                  0.0|                          null|                    null|                   0.0|                           null|             null|        null|                    null|         null|                     null|                 null|                             null|                  null|                              null|       null|     null|                    null|                  null|              null|                           null|         null|          null|       null|              null|             null|                   null|          null|            null|                     null|                          null|                         null|                               null|                      null|                                 null|                          null|                                      null|             0.0|            54.422|      18.6|        2.581|        1.337|      1803.987|           null|              597.029|               9.59|          null|        null|                37.746|                       0.5|          64.83|                  0.511|41128772.0|                                null|                       null|            null|                                   null|\n",
      "|     AFG|     Asia|Afghanistan|2020-02-02|       null|      0.0|              null|        null|       0.0|               null|                   null|                  0.0|                          null|                    null|                   0.0|                           null|             null|        null|                    null|         null|                     null|                 null|                             null|                  null|                              null|       null|     null|                    null|                  null|              null|                           null|         null|          null|       null|              null|             null|                   null|          null|            null|                     null|                          null|                         null|                               null|                      null|                                 null|                          null|                                      null|             0.0|            54.422|      18.6|        2.581|        1.337|      1803.987|           null|              597.029|               9.59|          null|        null|                37.746|                       0.5|          64.83|                  0.511|41128772.0|                                null|                       null|            null|                                   null|\n",
      "|     AFG|     Asia|Afghanistan|2020-02-09|       null|      0.0|               0.0|        null|       0.0|                0.0|                   null|                  0.0|                           0.0|                    null|                   0.0|                            0.0|             null|        null|                    null|         null|                     null|                 null|                             null|                  null|                              null|       null|     null|                    null|                  null|              null|                           null|         null|          null|       null|              null|             null|                   null|          null|            null|                     null|                          null|                         null|                               null|                      null|                                 null|                          null|                                      null|             0.0|            54.422|      18.6|        2.581|        1.337|      1803.987|           null|              597.029|               9.59|          null|        null|                37.746|                       0.5|          64.83|                  0.511|41128772.0|                                null|                       null|            null|                                   null|\n",
      "|     AFG|     Asia|Afghanistan|2020-02-16|       null|      0.0|               0.0|        null|       0.0|                0.0|                   null|                  0.0|                           0.0|                    null|                   0.0|                            0.0|             null|        null|                    null|         null|                     null|                 null|                             null|                  null|                              null|       null|     null|                    null|                  null|              null|                           null|         null|          null|       null|              null|             null|                   null|          null|            null|                     null|                          null|                         null|                               null|                      null|                                 null|                          null|                                      null|             0.0|            54.422|      18.6|        2.581|        1.337|      1803.987|           null|              597.029|               9.59|          null|        null|                37.746|                       0.5|          64.83|                  0.511|41128772.0|                                null|                       null|            null|                                   null|\n",
      "|     AFG|     Asia|Afghanistan|2020-02-23|       null|      0.0|               0.0|        null|       0.0|                0.0|                   null|                  0.0|                           0.0|                    null|                   0.0|                            0.0|             null|        null|                    null|         null|                     null|                 null|                             null|                  null|                              null|       null|     null|                    null|                  null|              null|                           null|         null|          null|       null|              null|             null|                   null|          null|            null|                     null|                          null|                         null|                               null|                      null|                                 null|                          null|                                      null|            8.33|            54.422|      18.6|        2.581|        1.337|      1803.987|           null|              597.029|               9.59|          null|        null|                37.746|                       0.5|          64.83|                  0.511|41128772.0|                                null|                       null|            null|                                   null|\n",
      "|     AFG|     Asia|Afghanistan|2020-03-01|        1.0|      1.0|             0.143|        null|       0.0|                0.0|                  0.024|                0.024|                         0.003|                    null|                   0.0|                            0.0|             null|        null|                    null|         null|                     null|                 null|                             null|                  null|                              null|       null|     null|                    null|                  null|              null|                           null|         null|          null|       null|              null|             null|                   null|          null|            null|                     null|                          null|                         null|                               null|                      null|                                 null|                          null|                                      null|           27.78|            54.422|      18.6|        2.581|        1.337|      1803.987|           null|              597.029|               9.59|          null|        null|                37.746|                       0.5|          64.83|                  0.511|41128772.0|                                null|                       null|            null|                                   null|\n",
      "|     AFG|     Asia|Afghanistan|2020-03-08|        1.0|      0.0|             0.143|        null|       0.0|                0.0|                  0.024|                  0.0|                         0.003|                    null|                   0.0|                            0.0|             null|        null|                    null|         null|                     null|                 null|                             null|                  null|                              null|       null|     null|                    null|                  null|              null|                           null|         null|          null|       null|              null|             null|                   null|          null|            null|                     null|                          null|                         null|                               null|                      null|                                 null|                          null|                                      null|           27.78|            54.422|      18.6|        2.581|        1.337|      1803.987|           null|              597.029|               9.59|          null|        null|                37.746|                       0.5|          64.83|                  0.511|41128772.0|                                null|                       null|            null|                                   null|\n",
      "+--------+---------+-----------+----------+-----------+---------+------------------+------------+----------+-------------------+-----------------------+---------------------+------------------------------+------------------------+----------------------+-------------------------------+-----------------+------------+------------------------+-------------+-------------------------+---------------------+---------------------------------+----------------------+----------------------------------+-----------+---------+------------------------+----------------------+------------------+-------------------------------+-------------+--------------+-----------+------------------+-----------------+-----------------------+--------------+----------------+-------------------------+------------------------------+-----------------------------+-----------------------------------+--------------------------+-------------------------------------+------------------------------+------------------------------------------+----------------+------------------+----------+-------------+-------------+--------------+---------------+---------------------+-------------------+--------------+------------+----------------------+--------------------------+---------------+-----------------------+----------+------------------------------------+---------------------------+----------------+---------------------------------------+\n",
      "only showing top 10 rows\n",
      "\n"
     ]
    }
   ],
   "source": [
    "df_parquet = spark.read.format(\"csv\").option(\"header\",\"true\")\\\n",
    "    .load(\"/resources/data/owid-covid-data.csv\")\n",
    "df_parquet.show(10)"
   ]
  },
  {
   "cell_type": "markdown",
   "id": "7bd5b99f-0271-4f32-a7c8-3194d5f0967b",
   "metadata": {},
   "source": [
    "# Write to parquet file with partitioning"
   ]
  },
  {
   "cell_type": "code",
   "execution_count": 11,
   "id": "ec326ab6-fbcc-43f8-8079-9aa4d95877a0",
   "metadata": {
    "tags": []
   },
   "outputs": [],
   "source": [
    "# Write to Parquet with partitioning by year and month\n",
    "df_parquet.write.partitionBy(\"date\") \\\n",
    "  .mode(\"overwrite\") \\\n",
    "  .parquet(\"owid-covid-data.parquet\")"
   ]
  },
  {
   "cell_type": "code",
   "execution_count": null,
   "id": "b7242318-5ab5-498c-928c-141708fb5ae3",
   "metadata": {},
   "outputs": [],
   "source": []
  }
 ],
 "metadata": {
  "kernelspec": {
   "display_name": "Python 3 (ipykernel)",
   "language": "python",
   "name": "python3"
  },
  "language_info": {
   "codemirror_mode": {
    "name": "ipython",
    "version": 3
   },
   "file_extension": ".py",
   "mimetype": "text/x-python",
   "name": "python",
   "nbconvert_exporter": "python",
   "pygments_lexer": "ipython3",
   "version": "3.10.10"
  }
 },
 "nbformat": 4,
 "nbformat_minor": 5
}
