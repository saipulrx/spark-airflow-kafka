{
 "cells": [
  {
   "cell_type": "code",
   "execution_count": 1,
   "id": "e11c38b6-4809-47d1-acd7-2ef754ad2e1e",
   "metadata": {
    "tags": []
   },
   "outputs": [],
   "source": [
    "import pyspark\n",
    "import os\n",
    "import json\n",
    "import argparse\n",
    "\n",
    "from dotenv import load_dotenv\n",
    "from pathlib import Path\n",
    "from pyspark.sql.types import StructType\n",
    "from pyspark.sql.functions import to_timestamp,col,when"
   ]
  },
  {
   "cell_type": "code",
   "execution_count": 2,
   "id": "50d5ab80-8ba4-4653-a76c-4b3a95ceedc0",
   "metadata": {
    "tags": []
   },
   "outputs": [
    {
     "data": {
      "text/plain": [
       "True"
      ]
     },
     "execution_count": 2,
     "metadata": {},
     "output_type": "execute_result"
    }
   ],
   "source": [
    "dotenv_path = Path('/resources/.env')\n",
    "load_dotenv(dotenv_path=dotenv_path)"
   ]
  },
  {
   "cell_type": "code",
   "execution_count": 3,
   "id": "8f3021d1-3745-4b6f-a788-46e96fc99794",
   "metadata": {
    "tags": []
   },
   "outputs": [],
   "source": [
    "postgres_host = os.getenv('POSTGRES_CONTAINER_NAME')\n",
    "postgres_dw_db = os.getenv('POSTGRES_DW_DB')\n",
    "postgres_user = os.getenv('POSTGRES_USER')\n",
    "postgres_password = os.getenv('POSTGRES_PASSWORD')"
   ]
  },
  {
   "cell_type": "code",
   "execution_count": null,
   "id": "b0750b81-d5fd-46a6-870e-08304eea4c28",
   "metadata": {
    "tags": []
   },
   "outputs": [],
   "source": [
    "postgres_host"
   ]
  },
  {
   "cell_type": "code",
   "execution_count": 4,
   "id": "3a1a9a22-ed82-49da-968d-f622058c3cbb",
   "metadata": {
    "tags": []
   },
   "outputs": [],
   "source": [
    "sparkcontext = pyspark.SparkContext.getOrCreate(conf=(\n",
    "        pyspark\n",
    "        .SparkConf()\n",
    "        .setAppName('Dibimbing')\n",
    "        .setMaster('local')\n",
    "        .set(\"spark.jars\", \"/opt/postgresql-42.2.18.jar\")\n",
    "    ))\n",
    "sparkcontext.setLogLevel(\"WARN\")\n",
    "\n",
    "spark = pyspark.sql.SparkSession(sparkcontext.getOrCreate())"
   ]
  },
  {
   "cell_type": "markdown",
   "id": "f01832e8-f5be-4fcc-bc59-930368e7d8e1",
   "metadata": {},
   "source": [
    "# JDBC"
   ]
  },
  {
   "cell_type": "code",
   "execution_count": 5,
   "id": "83c265f5-ae80-4d29-bfe9-b7af49afd6b7",
   "metadata": {
    "tags": []
   },
   "outputs": [],
   "source": [
    "jdbc_url = f'jdbc:postgresql://{postgres_host}/{postgres_dw_db}'\n",
    "jdbc_properties = {\n",
    "    'user': postgres_user,\n",
    "    'password': postgres_password,\n",
    "    'driver': 'org.postgresql.Driver',\n",
    "    'stringtype': 'unspecified'\n",
    "}"
   ]
  },
  {
   "cell_type": "code",
   "execution_count": 6,
   "id": "d4293f20-eab2-4c06-a289-94c2b53cd3c8",
   "metadata": {
    "tags": []
   },
   "outputs": [
    {
     "name": "stdout",
     "output_type": "stream",
     "text": [
      "+---------+---------+--------------------+--------+-----------+---------+----------+--------------+\n",
      "|invoiceno|stockcode|         description|quantity|invoicedate|unitprice|customerid|       country|\n",
      "+---------+---------+--------------------+--------+-----------+---------+----------+--------------+\n",
      "|   536365|   85123A|WHITE HANGING HEA...|       6| 2010-12-01|     2.55|     17850|United Kingdom|\n",
      "|   536365|    71053| WHITE METAL LANTERN|       6| 2010-12-01|     3.39|     17850|United Kingdom|\n",
      "|   536365|   84406B|CREAM CUPID HEART...|       8| 2010-12-01|     2.75|     17850|United Kingdom|\n",
      "|   536365|   84029G|KNITTED UNION FLA...|       6| 2010-12-01|     3.39|     17850|United Kingdom|\n",
      "|   536365|   84029E|RED WOOLLY HOTTIE...|       6| 2010-12-01|     3.39|     17850|United Kingdom|\n",
      "|   536365|    22752|SET 7 BABUSHKA NE...|       2| 2010-12-01|     7.65|     17850|United Kingdom|\n",
      "|   536365|    21730|GLASS STAR FROSTE...|       6| 2010-12-01|     4.25|     17850|United Kingdom|\n",
      "|   536366|    22633|HAND WARMER UNION...|       6| 2010-12-01|     1.85|     17850|United Kingdom|\n",
      "|   536366|    22632|HAND WARMER RED P...|       6| 2010-12-01|     1.85|     17850|United Kingdom|\n",
      "|   536367|    84879|ASSORTED COLOUR B...|      32| 2010-12-01|     1.69|     13047|United Kingdom|\n",
      "|   536367|    22745|POPPY'S PLAYHOUSE...|       6| 2010-12-01|      2.1|     13047|United Kingdom|\n",
      "|   536367|    22748|POPPY'S PLAYHOUSE...|       6| 2010-12-01|      2.1|     13047|United Kingdom|\n",
      "|   536367|    22749|FELTCRAFT PRINCES...|       8| 2010-12-01|     3.75|     13047|United Kingdom|\n",
      "|   536367|    22310|IVORY KNITTED MUG...|       6| 2010-12-01|     1.65|     13047|United Kingdom|\n",
      "|   536367|    84969|BOX OF 6 ASSORTED...|       6| 2010-12-01|     4.25|     13047|United Kingdom|\n",
      "|   536367|    22623|BOX OF VINTAGE JI...|       3| 2010-12-01|     4.95|     13047|United Kingdom|\n",
      "|   536367|    22622|BOX OF VINTAGE AL...|       2| 2010-12-01|     9.95|     13047|United Kingdom|\n",
      "|   536367|    21754|HOME BUILDING BLO...|       3| 2010-12-01|     5.95|     13047|United Kingdom|\n",
      "|   536367|    21755|LOVE BUILDING BLO...|       3| 2010-12-01|     5.95|     13047|United Kingdom|\n",
      "|   536367|    21777|RECIPE BOX WITH M...|       4| 2010-12-01|     7.95|     13047|United Kingdom|\n",
      "+---------+---------+--------------------+--------+-----------+---------+----------+--------------+\n",
      "only showing top 20 rows\n",
      "\n"
     ]
    }
   ],
   "source": [
    "retail_df = spark.read.jdbc(\n",
    "    jdbc_url,\n",
    "    'public.retail',\n",
    "    properties=jdbc_properties\n",
    ")\n",
    "retail_df.show()"
   ]
  },
  {
   "cell_type": "code",
   "execution_count": 6,
   "id": "6a59b807-d4ef-438f-abf3-706f7232b7cf",
   "metadata": {},
   "outputs": [],
   "source": [
    "#read csv data\n",
    "df_csv = spark.read.format(\"csv\").option(\"header\",\"true\")\\\n",
    "    .load(\"/resources/data/owid-covid-data.csv\")\n",
    "#df_csv.show(10)"
   ]
  },
  {
   "cell_type": "markdown",
   "id": "1fdd6618-a914-4a01-857e-4c0903c95a85",
   "metadata": {
    "tags": []
   },
   "source": [
    "## Aggregate data using SQL"
   ]
  },
  {
   "cell_type": "code",
   "execution_count": 7,
   "id": "c18237a4-fa0a-4756-9e17-1456cd22768d",
   "metadata": {
    "tags": []
   },
   "outputs": [],
   "source": [
    "# Register the DataFrame as a SQL temporary view\n",
    "df_csv.createOrReplaceTempView(\"owid_covid\")"
   ]
  },
  {
   "cell_type": "code",
   "execution_count": 8,
   "id": "72b4332b-5226-4aa8-8a31-7c0f719d9336",
   "metadata": {
    "tags": []
   },
   "outputs": [],
   "source": [
    "sqlDF = spark.sql(\"\"\"\n",
    "                   SELECT location, count(total_cases) as total_cases, count(total_deaths) as total_deaths\n",
    "                  FROM owid_covid\n",
    "                  group by location\n",
    "                  order by total_cases desc\n",
    "                  \"\"\")\n",
    "#sqlDF.show()"
   ]
  },
  {
   "cell_type": "markdown",
   "id": "370fe574-4443-4d73-a977-2d7eddbe797c",
   "metadata": {},
   "source": [
    "## Write to postgresql"
   ]
  },
  {
   "cell_type": "code",
   "execution_count": 10,
   "id": "0692d6f3-4951-4d85-866b-2ca003b45c28",
   "metadata": {
    "tags": []
   },
   "outputs": [],
   "source": [
    "sqlDF.write.mode(\"overwrite\").jdbc(\n",
    "        jdbc_url,\n",
    "        'public.count_owid_covid',\n",
    "        properties=jdbc_properties\n",
    "    )"
   ]
  },
  {
   "cell_type": "code",
   "execution_count": 14,
   "id": "2285c52e-d735-440b-8d93-4b429e8deae8",
   "metadata": {
    "tags": []
   },
   "outputs": [
    {
     "name": "stdout",
     "output_type": "stream",
     "text": [
      "+--------------+-----------+------------+\n",
      "|      location|total_cases|total_deaths|\n",
      "+--------------+-----------+------------+\n",
      "|        Europe|        209|         209|\n",
      "|       Germany|        209|         209|\n",
      "|         China|        209|         208|\n",
      "|European Union|        209|         209|\n",
      "|   High income|        209|         209|\n",
      "|          Asia|        209|         208|\n",
      "|        France|        206|         199|\n",
      "|        Canada|        206|         199|\n",
      "|     Australia|        206|         200|\n",
      "|      Cambodia|        205|         147|\n",
      "|       Finland|        205|         200|\n",
      "|         India|        205|         199|\n",
      "|       Belgium|        204|         199|\n",
      "|       Iceland|        204|         198|\n",
      "|        Africa|        203|         200|\n",
      "|         Egypt|        203|         199|\n",
      "|          Iran|        202|         202|\n",
      "|          Iraq|        201|         200|\n",
      "|   Afghanistan|        201|         197|\n",
      "|        Greece|        201|         199|\n",
      "+--------------+-----------+------------+\n",
      "only showing top 20 rows\n",
      "\n"
     ]
    }
   ],
   "source": [
    "spark.read.jdbc(\n",
    "        jdbc_url,\n",
    "        'public.count_owid_covid',\n",
    "        properties=jdbc_properties\n",
    "    ).show()"
   ]
  },
  {
   "cell_type": "code",
   "execution_count": null,
   "id": "6b266349-1d16-4c85-8284-82aa8b8bb524",
   "metadata": {},
   "outputs": [],
   "source": []
  }
 ],
 "metadata": {
  "kernelspec": {
   "display_name": "Python 3 (ipykernel)",
   "language": "python",
   "name": "python3"
  },
  "language_info": {
   "codemirror_mode": {
    "name": "ipython",
    "version": 3
   },
   "file_extension": ".py",
   "mimetype": "text/x-python",
   "name": "python",
   "nbconvert_exporter": "python",
   "pygments_lexer": "ipython3",
   "version": "3.10.10"
  }
 },
 "nbformat": 4,
 "nbformat_minor": 5
}
