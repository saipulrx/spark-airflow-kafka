{
 "cells": [
  {
   "cell_type": "markdown",
   "id": "712fb7a6-104e-427c-a0d3-5f60e22a7b31",
   "metadata": {},
   "source": [
    "# Latihan Apache Spark Transformation"
   ]
  },
  {
   "cell_type": "code",
   "execution_count": 1,
   "id": "920c5099-0acf-42a7-8b1b-2224efa83809",
   "metadata": {
    "tags": []
   },
   "outputs": [],
   "source": [
    "from pyspark.sql import SparkSession\n",
    "from pyspark.sql import functions as F"
   ]
  },
  {
   "cell_type": "markdown",
   "id": "acc52383-9ea2-4227-816a-c2a3756eaea3",
   "metadata": {},
   "source": [
    "## Contoh Map"
   ]
  },
  {
   "cell_type": "markdown",
   "id": "17a9f3e6-74a4-4bdb-8a2d-f93d802d74e5",
   "metadata": {},
   "source": [
    "### Inisialisasi Spark Session"
   ]
  },
  {
   "cell_type": "code",
   "execution_count": 2,
   "id": "a1983719-c68c-4e5a-a376-b356303a2056",
   "metadata": {
    "tags": []
   },
   "outputs": [],
   "source": [
    "spark = SparkSession.builder.appName(\"mapExample\").getOrCreate()"
   ]
  },
  {
   "cell_type": "code",
   "execution_count": 3,
   "id": "a3b1b5a5-ce60-48a5-9b35-5b170421b94b",
   "metadata": {
    "tags": []
   },
   "outputs": [
    {
     "data": {
      "text/html": [
       "\n",
       "            <div>\n",
       "                <p><b>SparkSession - in-memory</b></p>\n",
       "                \n",
       "        <div>\n",
       "            <p><b>SparkContext</b></p>\n",
       "\n",
       "            <p><a href=\"http://dibimbing-jupyter:4040\">Spark UI</a></p>\n",
       "\n",
       "            <dl>\n",
       "              <dt>Version</dt>\n",
       "                <dd><code>v3.3.2</code></dd>\n",
       "              <dt>Master</dt>\n",
       "                <dd><code>local[*]</code></dd>\n",
       "              <dt>AppName</dt>\n",
       "                <dd><code>mapExample</code></dd>\n",
       "            </dl>\n",
       "        </div>\n",
       "        \n",
       "            </div>\n",
       "        "
      ],
      "text/plain": [
       "<pyspark.sql.session.SparkSession at 0xffff880f9f30>"
      ]
     },
     "execution_count": 3,
     "metadata": {},
     "output_type": "execute_result"
    }
   ],
   "source": [
    "spark"
   ]
  },
  {
   "cell_type": "markdown",
   "id": "8340925b-85d7-4731-bf5d-996efe9f9f5b",
   "metadata": {},
   "source": [
    "## Create new dataframe"
   ]
  },
  {
   "cell_type": "code",
   "execution_count": 5,
   "id": "48f326af-1ea2-422e-8d73-74708e984b28",
   "metadata": {
    "tags": []
   },
   "outputs": [],
   "source": [
    "data = [(1, \"Alice\"), (2, \"Bob\"), (3, \"Charlie\")]\n",
    "df = spark.createDataFrame(data, [\"id\", \"name\"])"
   ]
  },
  {
   "cell_type": "markdown",
   "id": "ba6b02d0-155d-4e6f-9be5-46e079cbe464",
   "metadata": {},
   "source": [
    "## Using map equivalent in DataFrame API (withColumn)"
   ]
  },
  {
   "cell_type": "code",
   "execution_count": 7,
   "id": "a0b3bc1e-5f51-4132-8ffa-2f484f68e1b3",
   "metadata": {
    "tags": []
   },
   "outputs": [
    {
     "name": "stdout",
     "output_type": "stream",
     "text": [
      "+---+-------+-----------+\n",
      "| id|   name|id_plus_one|\n",
      "+---+-------+-----------+\n",
      "|  1|  Alice|          2|\n",
      "|  2|    Bob|          3|\n",
      "|  3|Charlie|          4|\n",
      "+---+-------+-----------+\n",
      "\n"
     ]
    }
   ],
   "source": [
    "df_new = df.withColumn(\"id_plus_one\", F.col(\"id\") + 1)\n",
    "df_new.show()"
   ]
  },
  {
   "cell_type": "markdown",
   "id": "7c19421a-4d55-4895-be91-91c2a6f06321",
   "metadata": {},
   "source": [
    "## Contoh Filter"
   ]
  },
  {
   "cell_type": "code",
   "execution_count": 11,
   "id": "50d67525-6e96-4cf9-b819-8d17b6c933a1",
   "metadata": {
    "tags": []
   },
   "outputs": [
    {
     "name": "stdout",
     "output_type": "stream",
     "text": [
      "+---+-------+\n",
      "| id|   name|\n",
      "+---+-------+\n",
      "|  2|    Bob|\n",
      "|  3|Charlie|\n",
      "+---+-------+\n",
      "\n"
     ]
    }
   ],
   "source": [
    "filtered_df = df.filter(F.col(\"id\") > 1)\n",
    "filtered_df.show()"
   ]
  },
  {
   "cell_type": "markdown",
   "id": "795e4232-97c4-4316-bedd-bd8c2006b38e",
   "metadata": {},
   "source": [
    "## Contoh Union"
   ]
  },
  {
   "cell_type": "markdown",
   "id": "0b8f09e7-e9d3-4928-bb15-6935ad7a5a74",
   "metadata": {},
   "source": [
    "### Add new dataframe"
   ]
  },
  {
   "cell_type": "code",
   "execution_count": 12,
   "id": "aae4e7de-0594-45eb-ba48-a523da1b0487",
   "metadata": {
    "tags": []
   },
   "outputs": [],
   "source": [
    "data2 = [(4, \"David\"), (5, \"Eve\")]\n",
    "df2 = spark.createDataFrame(data2, [\"id\", \"name\"])"
   ]
  },
  {
   "cell_type": "code",
   "execution_count": 13,
   "id": "17e40db3-a243-4ca7-b8ff-10a0a0ae3f92",
   "metadata": {
    "tags": []
   },
   "outputs": [
    {
     "name": "stdout",
     "output_type": "stream",
     "text": [
      "+---+-------+\n",
      "| id|   name|\n",
      "+---+-------+\n",
      "|  1|  Alice|\n",
      "|  2|    Bob|\n",
      "|  3|Charlie|\n",
      "|  4|  David|\n",
      "|  5|    Eve|\n",
      "+---+-------+\n",
      "\n"
     ]
    }
   ],
   "source": [
    "union_df = df.union(df2)\n",
    "union_df.show()"
   ]
  },
  {
   "cell_type": "markdown",
   "id": "488dbaaa-9aeb-45f5-b840-cff46a4bbbae",
   "metadata": {},
   "source": [
    "## Contoh Join"
   ]
  },
  {
   "cell_type": "markdown",
   "id": "0ae530a4-c7c0-4ba1-9514-850dc8803811",
   "metadata": {},
   "source": [
    "### Define new dataframe with different column"
   ]
  },
  {
   "cell_type": "code",
   "execution_count": 14,
   "id": "215de82e-3f17-496c-80ea-905ba2c0bf6c",
   "metadata": {
    "tags": []
   },
   "outputs": [
    {
     "name": "stdout",
     "output_type": "stream",
     "text": [
      "+---+------+----------+\n",
      "| id|salary|department|\n",
      "+---+------+----------+\n",
      "|  1| 45000|        IT|\n",
      "|  2|145000|   Manager|\n",
      "|  3| 45000|        HR|\n",
      "|  6| 34000|     Sales|\n",
      "+---+------+----------+\n",
      "\n"
     ]
    }
   ],
   "source": [
    "data_salary = [\n",
    "    (1,\"45000\", \"IT\"),(2,\"145000\", \"Manager\"),(3,\"45000\", \"HR\"),(6,\"34000\", \"Sales\")\n",
    "]\n",
    "column_data_salary = ['id','salary', 'department']\n",
    "df_salary = spark.createDataFrame(data_salary,column_data_salary)\n",
    "df_salary.show()"
   ]
  },
  {
   "cell_type": "markdown",
   "id": "618cb691-a4d8-48bb-8141-71ae04410e6e",
   "metadata": {},
   "source": [
    "### Inner join on two dataframes "
   ]
  },
  {
   "cell_type": "code",
   "execution_count": 16,
   "id": "861a6991-6f78-4a2d-bf53-5d38c2905d93",
   "metadata": {
    "tags": []
   },
   "outputs": [
    {
     "name": "stdout",
     "output_type": "stream",
     "text": [
      "+---+-------+---+------+----------+\n",
      "| id|   name| id|salary|department|\n",
      "+---+-------+---+------+----------+\n",
      "|  1|  Alice|  1| 45000|        IT|\n",
      "|  2|    Bob|  2|145000|   Manager|\n",
      "|  3|Charlie|  3| 45000|        HR|\n",
      "+---+-------+---+------+----------+\n",
      "\n"
     ]
    }
   ],
   "source": [
    "union_df.join(df_salary, union_df.id == df_salary.id, \"inner\").show()"
   ]
  },
  {
   "cell_type": "markdown",
   "id": "94b6a76b-af82-461c-aaa1-b46f1d1e233b",
   "metadata": {},
   "source": [
    "### Left Join on two dataframe"
   ]
  },
  {
   "cell_type": "code",
   "execution_count": 17,
   "id": "26a0f486-1239-43e4-9c63-41363fdeed1e",
   "metadata": {
    "tags": []
   },
   "outputs": [
    {
     "name": "stdout",
     "output_type": "stream",
     "text": [
      "+---+-------+----+------+----------+\n",
      "| id|   name|  id|salary|department|\n",
      "+---+-------+----+------+----------+\n",
      "|  1|  Alice|   1| 45000|        IT|\n",
      "|  2|    Bob|   2|145000|   Manager|\n",
      "|  3|Charlie|   3| 45000|        HR|\n",
      "|  4|  David|null|  null|      null|\n",
      "|  5|    Eve|null|  null|      null|\n",
      "+---+-------+----+------+----------+\n",
      "\n"
     ]
    }
   ],
   "source": [
    "union_df.join(df_salary, union_df.id == df_salary.id, \"left\").show()"
   ]
  },
  {
   "cell_type": "markdown",
   "id": "986913f0-c7a5-44d0-be9c-00d5056c198c",
   "metadata": {
    "tags": []
   },
   "source": [
    "### Right Join on two dataframe"
   ]
  },
  {
   "cell_type": "code",
   "execution_count": 19,
   "id": "4c3b52b2-ba8f-4079-ac8b-669b242fec36",
   "metadata": {
    "tags": []
   },
   "outputs": [
    {
     "name": "stdout",
     "output_type": "stream",
     "text": [
      "+---+-------+----+------+----------+\n",
      "| id|   name|  id|salary|department|\n",
      "+---+-------+----+------+----------+\n",
      "|  1|  Alice|   1| 45000|        IT|\n",
      "|  2|    Bob|   2|145000|   Manager|\n",
      "|  3|Charlie|   3| 45000|        HR|\n",
      "|  4|  David|null|  null|      null|\n",
      "|  5|    Eve|null|  null|      null|\n",
      "+---+-------+----+------+----------+\n",
      "\n"
     ]
    }
   ],
   "source": [
    "union_df.join(df_salary, union_df.id == df_salary.id, \"left\").show()"
   ]
  },
  {
   "cell_type": "markdown",
   "id": "e6d9a137-560b-4111-bb70-be5162bfccfc",
   "metadata": {},
   "source": [
    "### Full Outer Join\n",
    "This join joins the two dataframes with all matching and non-matching rows, we can perform this join in three ways"
   ]
  },
  {
   "cell_type": "markdown",
   "id": "ce150640-a44f-496c-8f02-80e246e28ee6",
   "metadata": {},
   "source": [
    "\n",
    "Syntax:\n",
    "\n",
    "outer: dataframe1.join(dataframe2,dataframe1.column_name ==  dataframe2.column_name,”outer”)\n",
    "\n",
    "full: dataframe1.join(dataframe2,dataframe1.column_name ==  dataframe2.column_name,”full”)\n",
    "\n",
    "fullouter: dataframe1.join(dataframe2,dataframe1.column_name ==  dataframe2.column_name,”fullouter”)\n",
    "\n"
   ]
  },
  {
   "cell_type": "markdown",
   "id": "5ab69599-c498-46eb-bb6d-8b01b2bc5942",
   "metadata": {},
   "source": [
    "### Example Outer"
   ]
  },
  {
   "cell_type": "code",
   "execution_count": 20,
   "id": "900800f2-d5af-42d7-bbf6-f745a433a3cc",
   "metadata": {
    "tags": []
   },
   "outputs": [
    {
     "name": "stdout",
     "output_type": "stream",
     "text": [
      "+----+-------+----+------+----------+\n",
      "|  id|   name|  id|salary|department|\n",
      "+----+-------+----+------+----------+\n",
      "|   1|  Alice|   1| 45000|        IT|\n",
      "|   2|    Bob|   2|145000|   Manager|\n",
      "|   3|Charlie|   3| 45000|        HR|\n",
      "|   4|  David|null|  null|      null|\n",
      "|   5|    Eve|null|  null|      null|\n",
      "|null|   null|   6| 34000|     Sales|\n",
      "+----+-------+----+------+----------+\n",
      "\n"
     ]
    }
   ],
   "source": [
    "union_df.join(df_salary, union_df.id == df_salary.id, \"outer\").show()"
   ]
  },
  {
   "cell_type": "markdown",
   "id": "98cf85ef-8ab8-40ae-a4f0-af88aa32652c",
   "metadata": {},
   "source": [
    "### Example Full"
   ]
  },
  {
   "cell_type": "code",
   "execution_count": 21,
   "id": "5f5fd3a7-6ec9-4f24-9e04-2c954ae1f3e3",
   "metadata": {
    "tags": []
   },
   "outputs": [
    {
     "name": "stdout",
     "output_type": "stream",
     "text": [
      "+----+-------+----+------+----------+\n",
      "|  id|   name|  id|salary|department|\n",
      "+----+-------+----+------+----------+\n",
      "|   1|  Alice|   1| 45000|        IT|\n",
      "|   2|    Bob|   2|145000|   Manager|\n",
      "|   3|Charlie|   3| 45000|        HR|\n",
      "|   4|  David|null|  null|      null|\n",
      "|   5|    Eve|null|  null|      null|\n",
      "|null|   null|   6| 34000|     Sales|\n",
      "+----+-------+----+------+----------+\n",
      "\n"
     ]
    }
   ],
   "source": [
    "union_df.join(df_salary, union_df.id == df_salary.id, \"full\").show()"
   ]
  },
  {
   "cell_type": "markdown",
   "id": "6bb81af6-1d6c-477b-a298-0f08f22dc602",
   "metadata": {},
   "source": [
    "### Example Fullouter"
   ]
  },
  {
   "cell_type": "code",
   "execution_count": 22,
   "id": "eb94cf83-68be-465c-be81-b0bc538073a8",
   "metadata": {
    "tags": []
   },
   "outputs": [
    {
     "name": "stdout",
     "output_type": "stream",
     "text": [
      "+----+-------+----+------+----------+\n",
      "|  id|   name|  id|salary|department|\n",
      "+----+-------+----+------+----------+\n",
      "|   1|  Alice|   1| 45000|        IT|\n",
      "|   2|    Bob|   2|145000|   Manager|\n",
      "|   3|Charlie|   3| 45000|        HR|\n",
      "|   4|  David|null|  null|      null|\n",
      "|   5|    Eve|null|  null|      null|\n",
      "|null|   null|   6| 34000|     Sales|\n",
      "+----+-------+----+------+----------+\n",
      "\n"
     ]
    }
   ],
   "source": [
    "union_df.join(df_salary, union_df.id == df_salary.id, \"fullouter\").show()"
   ]
  },
  {
   "cell_type": "markdown",
   "id": "de6d319d-3cbe-4faa-861f-1b40074d8e96",
   "metadata": {},
   "source": [
    "## Contoh aggregate data"
   ]
  },
  {
   "cell_type": "code",
   "execution_count": 43,
   "id": "433312d8-564c-4f2f-9209-c441b4c1c628",
   "metadata": {
    "tags": []
   },
   "outputs": [],
   "source": [
    "from pyspark.sql.functions import avg, max, min, count, sum, desc"
   ]
  },
  {
   "cell_type": "code",
   "execution_count": 23,
   "id": "fee432d2-2842-41fa-a3a8-135339196b43",
   "metadata": {
    "tags": []
   },
   "outputs": [],
   "source": [
    "data = [\n",
    "    (\"Andi\", \"Matematika\", 85),\n",
    "    (\"Andi\", \"Fisika\", 78),\n",
    "    (\"Budi\", \"Matematika\", 90),\n",
    "    (\"Budi\", \"Fisika\", 82),\n",
    "    (\"Cici\", \"Matematika\", 88),\n",
    "    (\"Cici\", \"Fisika\", 91)\n",
    "]"
   ]
  },
  {
   "cell_type": "code",
   "execution_count": 25,
   "id": "a8cc872f-42dd-4da9-b342-1fc85353499b",
   "metadata": {
    "tags": []
   },
   "outputs": [],
   "source": [
    "# Membuat DataFrame\n",
    "kolom = [\"nama\", \"mata_pelajaran\", \"nilai\"]\n",
    "df_nilai = spark.createDataFrame(data, kolom)"
   ]
  },
  {
   "cell_type": "code",
   "execution_count": 27,
   "id": "538bde1b-2278-4e2c-a7f2-498eb907df06",
   "metadata": {
    "tags": []
   },
   "outputs": [
    {
     "name": "stdout",
     "output_type": "stream",
     "text": [
      "Data Asli:\n",
      "+----+--------------+-----+\n",
      "|nama|mata_pelajaran|nilai|\n",
      "+----+--------------+-----+\n",
      "|Andi|    Matematika|   85|\n",
      "|Andi|        Fisika|   78|\n",
      "|Budi|    Matematika|   90|\n",
      "|Budi|        Fisika|   82|\n",
      "|Cici|    Matematika|   88|\n",
      "|Cici|        Fisika|   91|\n",
      "+----+--------------+-----+\n",
      "\n"
     ]
    }
   ],
   "source": [
    "# Menampilkan data asli\n",
    "print(\"Data Asli:\")\n",
    "df_nilai.show()"
   ]
  },
  {
   "cell_type": "markdown",
   "id": "72b7baba-e241-4de7-8260-3f435fee09e4",
   "metadata": {},
   "source": [
    "### Contoh aggregate menggunakan fungsi average"
   ]
  },
  {
   "cell_type": "code",
   "execution_count": 30,
   "id": "b6f0050f-8868-4ca0-8928-9e8e4bc3808c",
   "metadata": {
    "tags": []
   },
   "outputs": [
    {
     "name": "stdout",
     "output_type": "stream",
     "text": [
      "Rata-rata Nilai per Mata Pelajaran:\n",
      "+--------------+-----------------+\n",
      "|mata_pelajaran|        rata_rata|\n",
      "+--------------+-----------------+\n",
      "|        Fisika|83.66666666666667|\n",
      "|    Matematika|87.66666666666667|\n",
      "+--------------+-----------------+\n",
      "\n"
     ]
    }
   ],
   "source": [
    "# Aggregasi rata-rata nilai per mata pelajaran\n",
    "print(\"Rata-rata Nilai per Mata Pelajaran:\")\n",
    "df_avg_subject = df_nilai.groupBy(\"mata_pelajaran\") \\\n",
    "    .agg(avg(\"nilai\").alias(\"rata_rata\")) \\\n",
    "    .orderBy(\"mata_pelajaran\")\n",
    "\n",
    "df_avg_subject.show()"
   ]
  },
  {
   "cell_type": "code",
   "execution_count": 32,
   "id": "a827c761-5838-4f3b-b16d-bae6e0a399c8",
   "metadata": {
    "tags": []
   },
   "outputs": [
    {
     "name": "stdout",
     "output_type": "stream",
     "text": [
      "Rata-rata Nilai per Siswa:\n",
      "+----+---------+\n",
      "|nama|rata_rata|\n",
      "+----+---------+\n",
      "|Andi|     81.5|\n",
      "|Budi|     86.0|\n",
      "|Cici|     89.5|\n",
      "+----+---------+\n",
      "\n"
     ]
    }
   ],
   "source": [
    "# Aggregasi rata-rata nilai per siswa\n",
    "print(\"Rata-rata Nilai per Siswa:\")\n",
    "df_avg_nama = df_nilai.groupBy(\"nama\") \\\n",
    "    .agg(avg(\"nilai\").alias(\"rata_rata\")) \\\n",
    "    .orderBy(\"nama\")\n",
    "\n",
    "df_avg_nama.show()"
   ]
  },
  {
   "cell_type": "markdown",
   "id": "b6a66be2-71b0-4e7d-93f4-b9540cc276ce",
   "metadata": {},
   "source": [
    "### Contoh aggregate menggunakan fungsi max"
   ]
  },
  {
   "cell_type": "code",
   "execution_count": 37,
   "id": "d5f6ff28-59fd-4942-b441-d6690b3d1ce4",
   "metadata": {
    "tags": []
   },
   "outputs": [
    {
     "name": "stdout",
     "output_type": "stream",
     "text": [
      "Nilai Tertinggi per Mata Pelajaran:\n",
      "+--------------+---------+\n",
      "|mata_pelajaran|tertinggi|\n",
      "+--------------+---------+\n",
      "|        Fisika|       91|\n",
      "|    Matematika|       90|\n",
      "+--------------+---------+\n",
      "\n"
     ]
    }
   ],
   "source": [
    "# Aggregasi maksimal nilai per mata pelajaran\n",
    "print(\"Nilai Tertinggi per Mata Pelajaran:\")\n",
    "df_max_subject = df_nilai.groupBy(\"mata_pelajaran\") \\\n",
    "    .agg(max(\"nilai\").alias(\"tertinggi\")) \\\n",
    "    .orderBy(\"mata_pelajaran\")\n",
    "\n",
    "df_max_subject.show()"
   ]
  },
  {
   "cell_type": "code",
   "execution_count": 38,
   "id": "5d31e867-e81c-4780-a2bc-4e2f8e681cbf",
   "metadata": {
    "tags": []
   },
   "outputs": [
    {
     "name": "stdout",
     "output_type": "stream",
     "text": [
      "Nilai Tertinggi Nilai per Siswa:\n",
      "+----+---------+\n",
      "|nama|tertinggi|\n",
      "+----+---------+\n",
      "|Andi|       85|\n",
      "|Budi|       90|\n",
      "|Cici|       91|\n",
      "+----+---------+\n",
      "\n"
     ]
    }
   ],
   "source": [
    "# Aggregasi maksimal nilai per siswa\n",
    "print(\"Nilai Tertinggi Nilai per Siswa:\")\n",
    "df_max_nama = df_nilai.groupBy(\"nama\") \\\n",
    "    .agg(max(\"nilai\").alias(\"tertinggi\")) \\\n",
    "    .orderBy(\"nama\")\n",
    "\n",
    "df_max_nama.show()"
   ]
  },
  {
   "cell_type": "markdown",
   "id": "ff7dfb26-c5b6-4666-8eb7-e90e6457c54f",
   "metadata": {},
   "source": [
    "### Contoh aggregate menggunakan fungsi min"
   ]
  },
  {
   "cell_type": "code",
   "execution_count": 39,
   "id": "befa51e9-07ae-49fd-ad21-2db55226ea9a",
   "metadata": {
    "tags": []
   },
   "outputs": [
    {
     "name": "stdout",
     "output_type": "stream",
     "text": [
      "Nilai Terrendah per Mata Pelajaran:\n",
      "+--------------+---------+\n",
      "|mata_pelajaran|terrendah|\n",
      "+--------------+---------+\n",
      "|        Fisika|       78|\n",
      "|    Matematika|       85|\n",
      "+--------------+---------+\n",
      "\n"
     ]
    }
   ],
   "source": [
    "# Aggregasi nilai terrendah per mata pelajaran\n",
    "print(\"Nilai Terrendah per Mata Pelajaran:\")\n",
    "df_min_subject = df_nilai.groupBy(\"mata_pelajaran\") \\\n",
    "    .agg(min(\"nilai\").alias(\"terrendah\")) \\\n",
    "    .orderBy(\"mata_pelajaran\")\n",
    "\n",
    "df_min_subject.show()"
   ]
  },
  {
   "cell_type": "code",
   "execution_count": 45,
   "id": "cb12c366-36a3-4066-a359-443088238347",
   "metadata": {
    "tags": []
   },
   "outputs": [
    {
     "name": "stdout",
     "output_type": "stream",
     "text": [
      "Nilai Terrendah per Siswa:\n",
      "+----+---------+\n",
      "|nama|terrendah|\n",
      "+----+---------+\n",
      "|Andi|       78|\n",
      "|Budi|       82|\n",
      "|Cici|       88|\n",
      "+----+---------+\n",
      "\n"
     ]
    }
   ],
   "source": [
    "# Aggregasi nilai terrendah per siswa\n",
    "print(\"Nilai Terrendah per Siswa:\")\n",
    "df_min_nama = df_nilai.groupBy(\"nama\") \\\n",
    "    .agg(min(\"nilai\").alias(\"terrendah\")) \\\n",
    "    .orderBy(\"nama\")\n",
    "\n",
    "df_min_nama.show()"
   ]
  },
  {
   "cell_type": "code",
   "execution_count": 47,
   "id": "3e6f7932-a1ef-4d5a-9bde-c13ad54f8856",
   "metadata": {
    "tags": []
   },
   "outputs": [
    {
     "name": "stdout",
     "output_type": "stream",
     "text": [
      "Nilai Terrendah per Siswa:\n",
      "+----+---------+\n",
      "|nama|terrendah|\n",
      "+----+---------+\n",
      "|Cici|       88|\n",
      "|Budi|       82|\n",
      "|Andi|       78|\n",
      "+----+---------+\n",
      "\n"
     ]
    }
   ],
   "source": [
    "# Aggregasi nilai terrendah per siswa dengan sorting nama descending\n",
    "print(\"Nilai Terrendah per Siswa:\")\n",
    "df_min_nama = df_nilai.groupBy(\"nama\") \\\n",
    "    .agg(min(\"nilai\").alias(\"terrendah\")) \\\n",
    "    .orderBy(desc(\"nama\"))\n",
    "\n",
    "df_min_nama.show()"
   ]
  },
  {
   "cell_type": "markdown",
   "id": "a1ad668a-7aff-4f57-9bd6-d939bf40a6e0",
   "metadata": {},
   "source": [
    "# Contoh Spark Action Collect"
   ]
  },
  {
   "cell_type": "markdown",
   "id": "a68d4f96-a905-49d0-8743-610d335f940c",
   "metadata": {},
   "source": [
    "## Informasi Action Collect\n",
    "collect() adalah Spark action yang akan:\n",
    "- Mengeksekusi semua transformasi sebelumnya\n",
    "- Mengembalikan semua data ke driver program dalam bentuk list of Row objects\n",
    "- Bisa digunakan untuk memproses data di lokal\n",
    "\n",
    "## Catatan Penting\n",
    "Gunakan collect() hanya untuk data kecil karena semua data akan dimuat ke memori driver\n",
    "Untuk data besar, lebih aman menggunakan take() atau limit()\n",
    "collect() biasanya digunakan untuk:\n",
    "- Memvalidasi hasil transformasi\n",
    "- Membuat visualisasi sederhana\n",
    "- Mengekstrak hasil akhir ke sistem lokal"
   ]
  },
  {
   "cell_type": "code",
   "execution_count": 48,
   "id": "552ac034-79cb-4c9e-a342-47f65f7c6e9d",
   "metadata": {
    "tags": []
   },
   "outputs": [
    {
     "name": "stdout",
     "output_type": "stream",
     "text": [
      "\n",
      "Menggunakan Collect untuk Data Mata Pelajaran:\n",
      "Fisika: 83.67\n",
      "Matematika: 87.67\n"
     ]
    }
   ],
   "source": [
    "# Menggunakan action collect()\n",
    "print(\"\\nMenggunakan Collect untuk Data Mata Pelajaran:\")\n",
    "result_subject = df_avg_subject.collect()\n",
    "for row in result_subject:\n",
    "    print(f\"{row.mata_pelajaran}: {row.rata_rata:.2f}\")"
   ]
  },
  {
   "cell_type": "code",
   "execution_count": 49,
   "id": "be14bee3-872b-4bca-a778-4bc3f830933e",
   "metadata": {
    "tags": []
   },
   "outputs": [
    {
     "name": "stdout",
     "output_type": "stream",
     "text": [
      "\n",
      "Menggunakan Collect untuk Data Siswa :\n",
      "Andi: 81.50\n",
      "Budi: 86.00\n",
      "Cici: 89.50\n"
     ]
    }
   ],
   "source": [
    "print(\"\\nMenggunakan Collect untuk Data Siswa :\")\n",
    "result_students = df_avg_nama.collect()\n",
    "for row in result_students:\n",
    "    print(f\"{row.nama}: {row.rata_rata:.2f}\")"
   ]
  },
  {
   "cell_type": "code",
   "execution_count": 50,
   "id": "a08e07e2-d32a-47a9-8530-f0ef4cc1cde8",
   "metadata": {
    "tags": []
   },
   "outputs": [
    {
     "name": "stdout",
     "output_type": "stream",
     "text": [
      "\n",
      "Tampilan DataFrame Asli setelah Collect:\n",
      "+----+---------+\n",
      "|nama|rata_rata|\n",
      "+----+---------+\n",
      "|Andi|     81.5|\n",
      "|Budi|     86.0|\n",
      "|Cici|     89.5|\n",
      "+----+---------+\n",
      "\n"
     ]
    }
   ],
   "source": [
    "# Tampilkan dalam format DataFrame asli\n",
    "print(\"\\nTampilan DataFrame Asli setelah Collect:\")\n",
    "df_avg_nama.show()"
   ]
  },
  {
   "cell_type": "markdown",
   "id": "dd63116a-ef87-4221-893d-97cd8cce0988",
   "metadata": {},
   "source": [
    "# Contoh Spark Action Count"
   ]
  },
  {
   "cell_type": "markdown",
   "id": "173c7b2b-4e7c-42b7-bd13-1b831f4d5be3",
   "metadata": {
    "tags": []
   },
   "source": [
    "## Informasi Action Count\n",
    "\n",
    "1. count() adalah Spark action yang:\n",
    "    - Menghitung jumlah record dalam DataFrame\n",
    "    - Men-trigger eksekusi semua transformasi sebelumnya\n",
    "    - Bisa digunakan di berbagai konteks (global, grouped, filtered)\n",
    "\n",
    "2. Variasi penggunaan count:\n",
    "    - Basic count: df.count()\n",
    "    - Grouped count: df.groupBy().count()\n",
    "    - Conditional count: df.filter(condition).count()\n",
    "    - SQL count: Menggunakan sintaks SQL\n",
    "\n",
    "3. Best practice:\n",
    "    - Hindari count() pada DataFrame besar tanpa filter\n",
    "    - Untuk data grouped, gunakan groupBy().count() daripada collect()\n",
    "    - Gunakan approx_count_distinct() untuk data besar yang membutuhkan perkiraan"
   ]
  },
  {
   "cell_type": "markdown",
   "id": "804d99ca-2134-4f75-b7d6-415109355088",
   "metadata": {},
   "source": [
    "## 1. Count dasar untuk seluruh DataFrame"
   ]
  },
  {
   "cell_type": "code",
   "execution_count": 52,
   "id": "d3de46e8-1b2a-44e2-b39d-96a8616b27a7",
   "metadata": {
    "tags": []
   },
   "outputs": [
    {
     "name": "stdout",
     "output_type": "stream",
     "text": [
      "\n",
      "Total records dalam DataFrame: 6\n"
     ]
    }
   ],
   "source": [
    "total_records = df_nilai.count()\n",
    "print(f\"\\nTotal records dalam DataFrame: {total_records}\")"
   ]
  },
  {
   "cell_type": "markdown",
   "id": "b8c20df9-911f-43ac-b86a-afb3497c4d21",
   "metadata": {},
   "source": [
    "## 2. Count setelah aggregasi"
   ]
  },
  {
   "cell_type": "code",
   "execution_count": 53,
   "id": "583d6c38-7371-4ea2-b7fa-d7efd8827969",
   "metadata": {
    "tags": []
   },
   "outputs": [
    {
     "name": "stdout",
     "output_type": "stream",
     "text": [
      "Jumlah mata pelajaran unik: 2\n"
     ]
    }
   ],
   "source": [
    "df_avg_subject = df_nilai.groupBy(\"mata_pelajaran\") \\\n",
    "    .agg(avg(\"nilai\").alias(\"rata_rata\"))\n",
    "\n",
    "jumlah_mata_pelajaran = df_avg_subject.count()\n",
    "print(f\"Jumlah mata pelajaran unik: {jumlah_mata_pelajaran}\")"
   ]
  },
  {
   "cell_type": "markdown",
   "id": "b3324bd5-4b80-4078-8d2e-1c0b5114a3d9",
   "metadata": {},
   "source": [
    "## 3. Count dengan filter"
   ]
  },
  {
   "cell_type": "code",
   "execution_count": 54,
   "id": "42ed65c6-97f2-4006-a66e-337b0d609cca",
   "metadata": {
    "tags": []
   },
   "outputs": [
    {
     "name": "stdout",
     "output_type": "stream",
     "text": [
      "Jumlah nilai Fisika: 3\n"
     ]
    }
   ],
   "source": [
    "count_fisika = df_nilai.filter(df_nilai.mata_pelajaran == \"Fisika\").count()\n",
    "print(f\"Jumlah nilai Fisika: {count_fisika}\")"
   ]
  },
  {
   "cell_type": "markdown",
   "id": "d104d053-7772-43f0-8d72-c129963f433c",
   "metadata": {},
   "source": [
    "## 4. Count dalam grouped data"
   ]
  },
  {
   "cell_type": "code",
   "execution_count": 55,
   "id": "d43847bc-b750-4ec4-92d2-231237c88aae",
   "metadata": {
    "tags": []
   },
   "outputs": [
    {
     "name": "stdout",
     "output_type": "stream",
     "text": [
      "\n",
      "Jumlah data per siswa:\n",
      "+----+-----+\n",
      "|nama|count|\n",
      "+----+-----+\n",
      "|Cici|    2|\n",
      "|Budi|    2|\n",
      "|Andi|    2|\n",
      "+----+-----+\n",
      "\n"
     ]
    }
   ],
   "source": [
    "print(\"\\nJumlah data per siswa:\")\n",
    "df_nilai.groupBy(\"nama\").count().orderBy(desc(\"nama\")).show()"
   ]
  },
  {
   "cell_type": "markdown",
   "id": "18450df2-d71b-432f-8af4-954895aafcd0",
   "metadata": {},
   "source": [
    "## Menghitung jumlah siswa dengan rata-rata di atas 85"
   ]
  },
  {
   "cell_type": "code",
   "execution_count": 56,
   "id": "0a6560cf-de95-48a8-9ada-c303a371566b",
   "metadata": {
    "tags": []
   },
   "outputs": [
    {
     "name": "stdout",
     "output_type": "stream",
     "text": [
      "Jumlah siswa dengan rata-rata > 85: 2\n"
     ]
    }
   ],
   "source": [
    "df_avg = df_nilai.groupBy(\"nama\").agg(avg(\"nilai\").alias(\"rata_rata\"))\n",
    "count_top_students = df_avg.filter(df_avg.rata_rata > 85).count()\n",
    "print(f\"Jumlah siswa dengan rata-rata > 85: {count_top_students}\")"
   ]
  },
  {
   "cell_type": "markdown",
   "id": "30a57e30-384c-40d2-a95a-0872f2be7798",
   "metadata": {},
   "source": [
    "# Contoh Spark Action Save as file"
   ]
  },
  {
   "cell_type": "markdown",
   "id": "04c7e35f-abfd-4b82-b75b-127e40d9bc04",
   "metadata": {},
   "source": [
    "## 1. Simpan sebagai CSV"
   ]
  },
  {
   "cell_type": "code",
   "execution_count": 57,
   "id": "06b7dbe9-d872-4bb4-a3f6-d362605335c1",
   "metadata": {
    "tags": []
   },
   "outputs": [
    {
     "name": "stdout",
     "output_type": "stream",
     "text": [
      "Data berhasil disimpan dalam format CSV\n"
     ]
    }
   ],
   "source": [
    "df_avg.write \\\n",
    "    .mode(\"overwrite\") \\\n",
    "    .option(\"header\", \"true\") \\\n",
    "    .csv(\"output/rata_nilai.csv\")\n",
    "\n",
    "print(\"Data berhasil disimpan dalam format CSV\")"
   ]
  },
  {
   "cell_type": "markdown",
   "id": "45026883-4d53-4fcc-aa15-a44b9ea0aff6",
   "metadata": {
    "tags": []
   },
   "source": [
    "## 2. Simpan sebagai Parquet"
   ]
  },
  {
   "cell_type": "code",
   "execution_count": 59,
   "id": "174114a8-b22b-46b9-9bc3-fd33a92063bd",
   "metadata": {
    "tags": []
   },
   "outputs": [
    {
     "name": "stdout",
     "output_type": "stream",
     "text": [
      "Data berhasil disimpan dalam format Parquet\n"
     ]
    }
   ],
   "source": [
    "df_avg.write \\\n",
    "    .mode(\"overwrite\") \\\n",
    "    .parquet(\"output/rata_nilai.parquet\")\n",
    "\n",
    "print(\"Data berhasil disimpan dalam format Parquet\")"
   ]
  },
  {
   "cell_type": "code",
   "execution_count": null,
   "id": "434b9d77-1d18-4ac9-a5fe-efe1859a33a1",
   "metadata": {},
   "outputs": [],
   "source": []
  }
 ],
 "metadata": {
  "kernelspec": {
   "display_name": "Python 3 (ipykernel)",
   "language": "python",
   "name": "python3"
  },
  "language_info": {
   "codemirror_mode": {
    "name": "ipython",
    "version": 3
   },
   "file_extension": ".py",
   "mimetype": "text/x-python",
   "name": "python",
   "nbconvert_exporter": "python",
   "pygments_lexer": "ipython3",
   "version": "3.10.10"
  }
 },
 "nbformat": 4,
 "nbformat_minor": 5
}
