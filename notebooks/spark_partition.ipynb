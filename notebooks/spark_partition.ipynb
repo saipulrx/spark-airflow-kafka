{
 "cells": [
  {
   "cell_type": "code",
   "execution_count": 4,
   "id": "24bbb278-0954-4620-85e6-126f8c9d274d",
   "metadata": {
    "tags": []
   },
   "outputs": [
    {
     "name": "stdout",
     "output_type": "stream",
     "text": [
      "+--------+-------+----+-----+\n",
      "| product|revenue|year|month|\n",
      "+--------+-------+----+-----+\n",
      "|ProductA|    100|2023|    1|\n",
      "|ProductB|    200|2023|    1|\n",
      "+--------+-------+----+-----+\n",
      "\n"
     ]
    }
   ],
   "source": [
    "from pyspark.sql import SparkSession\n",
    "\n",
    "spark = SparkSession.builder.appName(\"PartitionExample\").getOrCreate()\n",
    "\n",
    "# Load data (replace with your dataset)\n",
    "data = [(\"2023\", \"01\", \"ProductA\", 100),\n",
    "        (\"2023\", \"01\", \"ProductB\", 200),\n",
    "        (\"2023\", \"02\", \"ProductA\", 150)]\n",
    "columns = [\"year\", \"month\", \"product\", \"revenue\"]\n",
    "df = spark.createDataFrame(data, columns)\n",
    "\n",
    "# Write to Parquet with partitioning by year and month\n",
    "df.write.partitionBy(\"year\", \"month\") \\\n",
    "  .mode(\"overwrite\") \\\n",
    "  .parquet(\"sales_partitioned.parquet\")\n",
    "\n",
    "# Read partitioned data\n",
    "partitioned_df = spark.read.parquet(\"sales_partitioned.parquet\")\n",
    "\n",
    "# Filter on partition columns (triggers partition pruning)\n",
    "df_filtered = partitioned_df.filter((partitioned_df.year == \"2023\") & (partitioned_df.month == \"01\"))\n",
    "\n",
    "df_filtered.show()"
   ]
  },
  {
   "cell_type": "code",
   "execution_count": null,
   "id": "22179eca-da91-4135-84af-5b3053c58bec",
   "metadata": {},
   "outputs": [],
   "source": []
  }
 ],
 "metadata": {
  "kernelspec": {
   "display_name": "Python 3 (ipykernel)",
   "language": "python",
   "name": "python3"
  },
  "language_info": {
   "codemirror_mode": {
    "name": "ipython",
    "version": 3
   },
   "file_extension": ".py",
   "mimetype": "text/x-python",
   "name": "python",
   "nbconvert_exporter": "python",
   "pygments_lexer": "ipython3",
   "version": "3.10.10"
  }
 },
 "nbformat": 4,
 "nbformat_minor": 5
}
