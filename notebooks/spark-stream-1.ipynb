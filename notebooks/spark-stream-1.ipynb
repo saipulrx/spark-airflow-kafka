{
 "cells": [
  {
   "cell_type": "markdown",
   "metadata": {},
   "source": [
    "# Initialization"
   ]
  },
  {
   "cell_type": "code",
   "execution_count": 1,
   "metadata": {
    "tags": []
   },
   "outputs": [],
   "source": [
    "import pyspark\n",
    "sparkcontext = pyspark.SparkContext.getOrCreate(conf=(\n",
    "        pyspark\n",
    "        .SparkConf()\n",
    "        .setAppName('RuangDataProject')\n",
    "        .setMaster('local')\n",
    "    ))\n",
    "sparkcontext.setLogLevel(\"WARN\")\n",
    "\n",
    "spark = pyspark.sql.SparkSession(sparkcontext.getOrCreate())"
   ]
  },
  {
   "cell_type": "code",
   "execution_count": 2,
   "metadata": {
    "tags": []
   },
   "outputs": [
    {
     "data": {
      "text/html": [
       "\n",
       "            <div>\n",
       "                <p><b>SparkSession - in-memory</b></p>\n",
       "                \n",
       "        <div>\n",
       "            <p><b>SparkContext</b></p>\n",
       "\n",
       "            <p><a href=\"http://dibimbing-jupyter:4041\">Spark UI</a></p>\n",
       "\n",
       "            <dl>\n",
       "              <dt>Version</dt>\n",
       "                <dd><code>v3.3.2</code></dd>\n",
       "              <dt>Master</dt>\n",
       "                <dd><code>local</code></dd>\n",
       "              <dt>AppName</dt>\n",
       "                <dd><code>RuangDataProject</code></dd>\n",
       "            </dl>\n",
       "        </div>\n",
       "        \n",
       "            </div>\n",
       "        "
      ],
      "text/plain": [
       "<pyspark.sql.session.SparkSession at 0xffff980a81f0>"
      ]
     },
     "execution_count": 2,
     "metadata": {},
     "output_type": "execute_result"
    }
   ],
   "source": [
    "spark"
   ]
  },
  {
   "cell_type": "markdown",
   "metadata": {},
   "source": [
    "# Data Load"
   ]
  },
  {
   "cell_type": "code",
   "execution_count": 3,
   "metadata": {
    "tags": []
   },
   "outputs": [
    {
     "name": "stdout",
     "output_type": "stream",
     "text": [
      "_committed_730451297822678341\n",
      "part-00000-tid-730451297822678341-1dda7027-2071-4d73-a0e2-7fb6a91e1d1f-0-c000.json\n",
      "part-00001-tid-730451297822678341-1dda7027-2071-4d73-a0e2-7fb6a91e1d1f-0-c000.json\n",
      "part-00002-tid-730451297822678341-1dda7027-2071-4d73-a0e2-7fb6a91e1d1f-0-c000.json\n",
      "part-00003-tid-730451297822678341-1dda7027-2071-4d73-a0e2-7fb6a91e1d1f-0-c000.json\n",
      "part-00004-tid-730451297822678341-1dda7027-2071-4d73-a0e2-7fb6a91e1d1f-0-c000.json\n",
      "part-00005-tid-730451297822678341-1dda7027-2071-4d73-a0e2-7fb6a91e1d1f-0-c000.json\n",
      "part-00006-tid-730451297822678341-1dda7027-2071-4d73-a0e2-7fb6a91e1d1f-0-c000.json\n",
      "part-00007-tid-730451297822678341-1dda7027-2071-4d73-a0e2-7fb6a91e1d1f-0-c000.json\n",
      "part-00008-tid-730451297822678341-1dda7027-2071-4d73-a0e2-7fb6a91e1d1f-0-c000.json\n"
     ]
    }
   ],
   "source": [
    "!ls /resources/data/activity-data/ | head -10"
   ]
  },
  {
   "cell_type": "code",
   "execution_count": 4,
   "metadata": {
    "tags": []
   },
   "outputs": [
    {
     "name": "stdout",
     "output_type": "stream",
     "text": [
      "StructType([StructField('Arrival_Time', LongType(), True), StructField('Creation_Time', LongType(), True), StructField('Device', StringType(), True), StructField('Index', LongType(), True), StructField('Model', StringType(), True), StructField('User', StringType(), True), StructField('gt', StringType(), True), StructField('x', DoubleType(), True), StructField('y', DoubleType(), True), StructField('z', DoubleType(), True)])\n"
     ]
    }
   ],
   "source": [
    "static = spark.read.json('/resources/data/activity-data/')\n",
    "dataSchema = static.schema\n",
    "print(dataSchema)"
   ]
  },
  {
   "cell_type": "code",
   "execution_count": 5,
   "metadata": {
    "tags": []
   },
   "outputs": [
    {
     "name": "stdout",
     "output_type": "stream",
     "text": [
      "+-------------+-------------------+--------+-----+------+----+-----+------------+-------------+------------+\n",
      "| Arrival_Time|      Creation_Time|  Device|Index| Model|User|   gt|           x|            y|           z|\n",
      "+-------------+-------------------+--------+-----+------+----+-----+------------+-------------+------------+\n",
      "|1424686735011|1424686733015076670|nexus4_1|    3|nexus4|   g|stand|0.0014038086|   0.03147888|  0.01109314|\n",
      "|1424686735214|1424688581265321168|nexus4_2|   50|nexus4|   g|stand|-0.008926392|  -0.04034424|0.0034332275|\n",
      "|1424686735420|1424688581471925172|nexus4_2|   91|nexus4|   g|stand|-3.814697E-4|-0.0018920898|-0.015792847|\n",
      "|1424686735618|1424686733619416269|nexus4_1|  123|nexus4|   g|stand| 3.356934E-4| -0.030471802|-0.025222778|\n",
      "|1424686735821|1424688581874604615|nexus4_2|  171|nexus4|   g|stand|0.0038909912| -0.013641357|  0.01411438|\n",
      "+-------------+-------------------+--------+-----+------+----+-----+------------+-------------+------------+\n",
      "only showing top 5 rows\n",
      "\n"
     ]
    }
   ],
   "source": [
    "static.show(5)"
   ]
  },
  {
   "cell_type": "code",
   "execution_count": 6,
   "metadata": {
    "tags": []
   },
   "outputs": [
    {
     "data": {
      "text/plain": [
       "[Row(Arrival_Time=1424789459822, Creation_Time=1424791305142092507, Device='nexus4_2', Index=396182, Model='nexus4', User='e', gt='bike', x=0.027862549, y=-0.53941345, z=0.23950195),\n",
       " Row(Arrival_Time=1424789460017, Creation_Time=1424791305336825173, Device='nexus4_2', Index=396221, Model='nexus4', User='e', gt='bike', x=-1.2346497, y=0.6355133, z=-0.21444702),\n",
       " Row(Arrival_Time=1424789460218, Creation_Time=1424791305538241189, Device='nexus4_2', Index=396261, Model='nexus4', User='e', gt='bike', x=-0.85546875, y=-0.82032776, z=-0.5936279),\n",
       " Row(Arrival_Time=1424789460424, Creation_Time=1424791305739840310, Device='nexus4_2', Index=396301, Model='nexus4', User='e', gt='bike', x=0.98809814, y=0.65153503, z=0.093170166),\n",
       " Row(Arrival_Time=1424789460621, Creation_Time=1424791305941073220, Device='nexus4_2', Index=396341, Model='nexus4', User='e', gt='bike', x=1.1579285, y=-0.37278748, z=0.30252075)]"
      ]
     },
     "execution_count": 6,
     "metadata": {},
     "output_type": "execute_result"
    }
   ],
   "source": [
    "static.tail(5)"
   ]
  },
  {
   "cell_type": "markdown",
   "metadata": {},
   "source": [
    "Metadata for the dataset\n",
    "\n",
    "| Column | Description |\n",
    "| --- | ----------- |\n",
    "| Index         |  The row number.\n",
    "| Arrival_Time  |  The time the measurement arrived to the sensing application\n",
    "| Creation_Time |  The timestamp the OS attaches to the sample\n",
    "| X,Y,Z | The values provided by the sensor for the three axes, X,y,z\n",
    "| User          |  The user this sample originates from, the users are named a to i.\n",
    "| Model         |  The phone/watch model this sample originates from\n",
    "| Device        |  The specific device this sample is from. They are prefixed with the model name and then the number, e.g., nexus4_1 or nexus4_2.\n",
    "| Gt            |  The activity the user was performing: bike sit, stand, walk, stairsup, stairsdown and null"
   ]
  },
  {
   "cell_type": "markdown",
   "metadata": {},
   "source": [
    "# Structured Streaming"
   ]
  },
  {
   "cell_type": "markdown",
   "metadata": {},
   "source": [
    "### Mock File Streaming (Throttle)"
   ]
  },
  {
   "cell_type": "code",
   "execution_count": 7,
   "metadata": {
    "tags": []
   },
   "outputs": [],
   "source": [
    "streaming = (\n",
    "    spark\n",
    "    .readStream\n",
    "    .schema(dataSchema)\n",
    "    .option('maxFilesPerTrigger', 1)\n",
    "    .json('/resources/data/activity-data/')\n",
    ")"
   ]
  },
  {
   "cell_type": "markdown",
   "metadata": {
    "tags": []
   },
   "source": [
    "### Simple Aggregations"
   ]
  },
  {
   "cell_type": "code",
   "execution_count": 8,
   "metadata": {
    "tags": []
   },
   "outputs": [],
   "source": [
    "# set partitions\n",
    "spark.conf.set('spark.sql.shuffle.partitions', 5)"
   ]
  },
  {
   "cell_type": "code",
   "execution_count": 9,
   "metadata": {
    "tags": []
   },
   "outputs": [],
   "source": [
    "activityCounts = streaming.select('index').distinct()\n",
    "activityQuery = (\n",
    "    activityCounts.writeStream\n",
    "    .queryName('activity_counts_3')\n",
    "    .format('memory')\n",
    "    .outputMode('append')\n",
    "    .start()\n",
    ")\n",
    "\n",
    "# activityQuery.awaitTermination()"
   ]
  },
  {
   "cell_type": "code",
   "execution_count": 10,
   "metadata": {
    "tags": []
   },
   "outputs": [],
   "source": [
    "# activityQuery.awaitTermination()\n",
    "activityQuery.stop()"
   ]
  },
  {
   "cell_type": "code",
   "execution_count": 11,
   "metadata": {
    "tags": []
   },
   "outputs": [
    {
     "name": "stdout",
     "output_type": "stream",
     "text": [
      "+--------+\n",
      "|count(1)|\n",
      "+--------+\n",
      "|  353592|\n",
      "+--------+\n",
      "\n",
      "+--------+\n",
      "|count(1)|\n",
      "+--------+\n",
      "|  353592|\n",
      "+--------+\n",
      "\n",
      "+--------+\n",
      "|count(1)|\n",
      "+--------+\n",
      "|  353592|\n",
      "+--------+\n",
      "\n",
      "+--------+\n",
      "|count(1)|\n",
      "+--------+\n",
      "|  353592|\n",
      "+--------+\n",
      "\n",
      "+--------+\n",
      "|count(1)|\n",
      "+--------+\n",
      "|  353592|\n",
      "+--------+\n",
      "\n"
     ]
    }
   ],
   "source": [
    "from time import sleep\n",
    "for x in range(5):\n",
    "    spark.sql(\"SELECT COUNT(*) FROM activity_counts_3\").show()\n",
    "    sleep(1)"
   ]
  },
  {
   "cell_type": "markdown",
   "metadata": {
    "tags": []
   },
   "source": [
    "### Complex Aggregation"
   ]
  },
  {
   "cell_type": "code",
   "execution_count": 12,
   "metadata": {
    "tags": []
   },
   "outputs": [],
   "source": [
    "from pyspark.sql.functions import expr\n",
    "\n",
    "simpleTransform = (\n",
    "    streaming\n",
    "    .withColumn('stairs', expr(\"gt like '%stairs%'\"))\n",
    "    .where('stairs')\n",
    "    .where('gt is not null')\n",
    "    .select('gt', 'model', 'arrival_time', 'creation_time')\n",
    "    .writeStream\n",
    "    .queryName('simple_transform')\n",
    "    .format('memory')\n",
    "    .outputMode('append')\n",
    "    .start()\n",
    ")"
   ]
  },
  {
   "cell_type": "code",
   "execution_count": 13,
   "metadata": {
    "tags": []
   },
   "outputs": [
    {
     "name": "stdout",
     "output_type": "stream",
     "text": [
      "+--------+------+-------------+-------------------+\n",
      "|      gt| model| arrival_time|      creation_time|\n",
      "+--------+------+-------------+-------------------+\n",
      "|stairsup|nexus4|1424687983719|1424687981726802718|\n",
      "|stairsup|nexus4|1424687984000|1424687982009853255|\n",
      "|stairsup|nexus4|1424687984404|1424687982411977009|\n",
      "|stairsup|nexus4|1424687984805|1424687982814351277|\n",
      "|stairsup|nexus4|1424687985210|1424687983217500861|\n",
      "|stairsup|nexus4|1424687985620|1424687983620332892|\n",
      "|stairsup|nexus4|1424687986016|1424687984023164923|\n",
      "|stairsup|nexus4|1424687986420|1424687984425874884|\n",
      "|stairsup|nexus4|1424687986820|1424687984828822915|\n",
      "|stairsup|nexus4|1424687987225|1424687985231654946|\n",
      "|stairsup|nexus4|1424687987625|1424687985634469017|\n",
      "|stairsup|nexus4|1424687987992|1424687986002114280|\n",
      "|stairsup|nexus4|1424687988191|1424689834237427627|\n",
      "|stairsup|nexus4|1424687988392|1424689834438660537|\n",
      "|stairsup|nexus4|1424687988592|1424689834640076553|\n",
      "|stairsup|nexus4|1424687988794|1424689834841675674|\n",
      "|stairsup|nexus4|1424687988999|1424689835047943984|\n",
      "|stairsup|nexus4|1424687989200|1424687987205721701|\n",
      "|stairsup|nexus4|1424687989409|1424689835458070221|\n",
      "|stairsup|nexus4|1424687989606|1424687987613772238|\n",
      "+--------+------+-------------+-------------------+\n",
      "only showing top 20 rows\n",
      "\n",
      "+--------+------+-------------+-------------------+\n",
      "|      gt| model| arrival_time|      creation_time|\n",
      "+--------+------+-------------+-------------------+\n",
      "|stairsup|nexus4|1424687983719|1424687981726802718|\n",
      "|stairsup|nexus4|1424687984000|1424687982009853255|\n",
      "|stairsup|nexus4|1424687984404|1424687982411977009|\n",
      "|stairsup|nexus4|1424687984805|1424687982814351277|\n",
      "|stairsup|nexus4|1424687985210|1424687983217500861|\n",
      "|stairsup|nexus4|1424687985620|1424687983620332892|\n",
      "|stairsup|nexus4|1424687986016|1424687984023164923|\n",
      "|stairsup|nexus4|1424687986420|1424687984425874884|\n",
      "|stairsup|nexus4|1424687986820|1424687984828822915|\n",
      "|stairsup|nexus4|1424687987225|1424687985231654946|\n",
      "|stairsup|nexus4|1424687987625|1424687985634469017|\n",
      "|stairsup|nexus4|1424687987992|1424687986002114280|\n",
      "|stairsup|nexus4|1424687988191|1424689834237427627|\n",
      "|stairsup|nexus4|1424687988392|1424689834438660537|\n",
      "|stairsup|nexus4|1424687988592|1424689834640076553|\n",
      "|stairsup|nexus4|1424687988794|1424689834841675674|\n",
      "|stairsup|nexus4|1424687988999|1424689835047943984|\n",
      "|stairsup|nexus4|1424687989200|1424687987205721701|\n",
      "|stairsup|nexus4|1424687989409|1424689835458070221|\n",
      "|stairsup|nexus4|1424687989606|1424687987613772238|\n",
      "+--------+------+-------------+-------------------+\n",
      "only showing top 20 rows\n",
      "\n"
     ]
    }
   ],
   "source": [
    "for x in range(2):\n",
    "    spark.sql(\"SELECT * FROM simple_transform\").show()\n",
    "    sleep(1)"
   ]
  },
  {
   "cell_type": "code",
   "execution_count": 14,
   "metadata": {
    "tags": []
   },
   "outputs": [],
   "source": [
    "deviceModelStats = (\n",
    "    streaming\n",
    "    .groupBy('gt')\n",
    "    .count()\n",
    "    .writeStream\n",
    "    .queryName('device_counts')\n",
    "    .format('memory')\n",
    "    .outputMode('complete')\n",
    "    .start()\n",
    ")"
   ]
  },
  {
   "cell_type": "code",
   "execution_count": 34,
   "metadata": {
    "tags": []
   },
   "outputs": [],
   "source": [
    "deviceModelStats.stop()"
   ]
  },
  {
   "cell_type": "code",
   "execution_count": 35,
   "metadata": {
    "tags": []
   },
   "outputs": [
    {
     "name": "stdout",
     "output_type": "stream",
     "text": [
      "+----------+------+\n",
      "|        gt| count|\n",
      "+----------+------+\n",
      "|       sit|196927|\n",
      "|     stand|182165|\n",
      "|stairsdown|149819|\n",
      "|      walk|212095|\n",
      "|  stairsup|167255|\n",
      "|      null|167168|\n",
      "|      bike|172762|\n",
      "+----------+------+\n",
      "\n",
      "+----------+------+\n",
      "|        gt| count|\n",
      "+----------+------+\n",
      "|       sit|196927|\n",
      "|     stand|182165|\n",
      "|stairsdown|149819|\n",
      "|      walk|212095|\n",
      "|  stairsup|167255|\n",
      "|      null|167168|\n",
      "|      bike|172762|\n",
      "+----------+------+\n",
      "\n",
      "+----------+------+\n",
      "|        gt| count|\n",
      "+----------+------+\n",
      "|       sit|196927|\n",
      "|     stand|182165|\n",
      "|stairsdown|149819|\n",
      "|      walk|212095|\n",
      "|  stairsup|167255|\n",
      "|      null|167168|\n",
      "|      bike|172762|\n",
      "+----------+------+\n",
      "\n",
      "+----------+------+\n",
      "|        gt| count|\n",
      "+----------+------+\n",
      "|       sit|196927|\n",
      "|     stand|182165|\n",
      "|stairsdown|149819|\n",
      "|      walk|212095|\n",
      "|  stairsup|167255|\n",
      "|      null|167168|\n",
      "|      bike|172762|\n",
      "+----------+------+\n",
      "\n",
      "+----------+------+\n",
      "|        gt| count|\n",
      "+----------+------+\n",
      "|       sit|196927|\n",
      "|     stand|182165|\n",
      "|stairsdown|149819|\n",
      "|      walk|212095|\n",
      "|  stairsup|167255|\n",
      "|      null|167168|\n",
      "|      bike|172762|\n",
      "+----------+------+\n",
      "\n",
      "+----------+------+\n",
      "|        gt| count|\n",
      "+----------+------+\n",
      "|       sit|196927|\n",
      "|     stand|182165|\n",
      "|stairsdown|149819|\n",
      "|      walk|212095|\n",
      "|  stairsup|167255|\n",
      "|      null|167168|\n",
      "|      bike|172762|\n",
      "+----------+------+\n",
      "\n",
      "+----------+------+\n",
      "|        gt| count|\n",
      "+----------+------+\n",
      "|       sit|196927|\n",
      "|     stand|182165|\n",
      "|stairsdown|149819|\n",
      "|      walk|212095|\n",
      "|  stairsup|167255|\n",
      "|      null|167168|\n",
      "|      bike|172762|\n",
      "+----------+------+\n",
      "\n",
      "+----------+------+\n",
      "|        gt| count|\n",
      "+----------+------+\n",
      "|       sit|196927|\n",
      "|     stand|182165|\n",
      "|stairsdown|149819|\n",
      "|      walk|212095|\n",
      "|  stairsup|167255|\n",
      "|      null|167168|\n",
      "|      bike|172762|\n",
      "+----------+------+\n",
      "\n",
      "+----------+------+\n",
      "|        gt| count|\n",
      "+----------+------+\n",
      "|       sit|196927|\n",
      "|     stand|182165|\n",
      "|stairsdown|149819|\n",
      "|      walk|212095|\n",
      "|  stairsup|167255|\n",
      "|      null|167168|\n",
      "|      bike|172762|\n",
      "+----------+------+\n",
      "\n",
      "+----------+------+\n",
      "|        gt| count|\n",
      "+----------+------+\n",
      "|       sit|196927|\n",
      "|     stand|182165|\n",
      "|stairsdown|149819|\n",
      "|      walk|212095|\n",
      "|  stairsup|167255|\n",
      "|      null|167168|\n",
      "|      bike|172762|\n",
      "+----------+------+\n",
      "\n"
     ]
    }
   ],
   "source": [
    "for x in range(10):\n",
    "    spark.sql(\"SELECT * FROM device_counts\").show()\n",
    "    sleep(1)"
   ]
  },
  {
   "cell_type": "code",
   "execution_count": 37,
   "metadata": {
    "tags": []
   },
   "outputs": [],
   "source": [
    "spark.stop()"
   ]
  },
  {
   "cell_type": "code",
   "execution_count": null,
   "metadata": {},
   "outputs": [],
   "source": []
  }
 ],
 "metadata": {
  "kernelspec": {
   "display_name": "Python 3 (ipykernel)",
   "language": "python",
   "name": "python3"
  },
  "language_info": {
   "codemirror_mode": {
    "name": "ipython",
    "version": 3
   },
   "file_extension": ".py",
   "mimetype": "text/x-python",
   "name": "python",
   "nbconvert_exporter": "python",
   "pygments_lexer": "ipython3",
   "version": "3.10.10"
  }
 },
 "nbformat": 4,
 "nbformat_minor": 4
}
